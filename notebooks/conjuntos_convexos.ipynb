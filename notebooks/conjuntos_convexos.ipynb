{
 "cells": [
  {
   "cell_type": "markdown",
   "metadata": {},
   "source": [
    "# Conjuntos Convexos (Convex Sets)\n",
    "\n",
    "## Definición\n",
    "Un conjunto  $C\\subseteq  \\mathbb{R}^n$  es *convexo* si para cualquier par de puntos $x_1, x_2 \\in C$ con $x_1 \\neq x_2$ y un número $\\alpha$ tal que $0 \\le \\alpha \\le 1$, el punto $\\alpha x_1 + (1 - \\alpha)x_2 \\in C$.\n",
    "\n",
    "Esta definición puede ser interpretada geométricamente al indicar que un conjunto es convexo si dados dos puntos en el conjunto, cada punto en el segmento de línea (definido por la ecuacion de la recta mostrada arriba) que une a esos dos puntos está contenido dentro del conjunto. Esto se ilustra en la figura a continuación. \n",
    "\n",
    "<img src=\"../source/imgs/convexity.png\" width=\"400\">\n",
    "\n",
    "La imagen de la izquierda muestra un conjunto convexo mientras que la imagen de la derecha muestra un conjunto no convexo. \n",
    "\n",
    "\n",
    "Los conjuntos convexos en $\\mathbb{R}^n$ satisfacen las siguientes relaciones:\n",
    "1. Si $C$ es un conjunto convexo y $\\beta$ es un numero real, el conjunto $ \\beta C = \\{x: x=\\beta c, c \\in C\\}$ es convexo. \n",
    "2. Si $C$ y $D$ son dos conjuntos convexos, entonces el conjunto $C+D = \\{x: x=c+d, c \\in C, d \\in D \\}$ es convexo. \n",
    "3. La intersección de cualquier coleccion de conjuntos convexos es un conjunto convexo. \n",
    "           \n",
    "## Combinacion convexa\n",
    "Dados $m$ puntos en $\\mathbb{R}^n$ denotados por $x_i$ para $i=1,..., m$, $x$ es una combinacion convexa de los $m$ puntos si puede ser escrita de la siguiente forma:\n",
    "\n",
    "$x = \\sum_{i=1}^{m} \\lambda_i x_i$ donde $\\lambda_i \\geq 0$ y \n",
    "$\\sum_{i=1}^{m} \\lambda_i = 1$ \n",
    "\n",
    "Una definicion alternativa de un conjunto convexo es la siguiente: \n",
    "Un conjunto $C\\subseteq  \\mathbb{R}^n$  es *convexo* si la combinacion convexa de cualquiera dos puntos que estan en $C$, pertenece a $C$. \n",
    "\n",
    "# Envoltura Convexa (Convex Hull)\n",
    "\n",
    "## Definición \n",
    "La envoltura convexa, denotada como $\\mathbf{conv}(C)$, de un conjunto $C$ (que no es necesariamente convexo) es el conjunto de todas las combinaciones convexas de puntos en $C$. Formalmente:\n",
    "\n",
    "$\\mathbf{conv}(C) = \\{ \\theta_1x_1 + \\dots + \\theta_kx_k | \\theta_i \\geq 0, \\theta_1 + \\dots + \\theta_k = 1 \\}$\n",
    "\n",
    "# Funcion Convexa (Convex Function)\n",
    "## Definicion\n",
    "Una funcion $f: X_D \\to X_R$ (Mapa) con $X_D$ es convexa si "
   ]
  },
  {
   "cell_type": "code",
   "execution_count": 0,
   "metadata": {},
   "outputs": [],
   "source": []
  },
  {
   "cell_type": "code",
   "execution_count": null,
   "metadata": {},
   "outputs": [],
   "source": []
  },
  {
   "cell_type": "markdown",
   "metadata": {},
   "source": [
    "Una propiedad muy util de los conjuntos y funciones convexas es que los optimos locales son optimos globales. \n",
    "\n",
    "Por ejemplo, suponga que queremos optimizar la funcion $f_1(x)=(x-1)^4 + x^2$"
   ]
  },
  {
   "cell_type": "code",
   "execution_count": 1,
   "metadata": {},
   "outputs": [],
   "source": [
    "%matplotlib inline\n",
    "import matplotlib.pyplot as plt\n",
    "import numpy as np"
   ]
  },
  {
   "cell_type": "code",
   "execution_count": 2,
   "metadata": {},
   "outputs": [],
   "source": [
    "# specify objective function\n",
    "f1 = lambda x : (x - 1) ** 4 + x ** 2"
   ]
  },
  {
   "cell_type": "code",
   "execution_count": 3,
   "metadata": {},
   "outputs": [
    {
     "name": "stdout",
     "output_type": "stream",
     "text": [
      "xmin: 0.41, fval: 0.29, iter: 12\n"
     ]
    }
   ],
   "source": [
    "from scipy.optimize import minimize_scalar\n",
    "\n",
    "res = minimize_scalar(f1, method='brent')\n",
    "print('xmin: %.02f, fval: %.02f, iter: %d' % (res.x, res.fun, res.nit))"
   ]
  },
  {
   "cell_type": "code",
   "execution_count": 4,
   "metadata": {},
   "outputs": [],
   "source": [
    "import cvxpy as cp"
   ]
  },
  {
   "cell_type": "code",
   "execution_count": null,
   "metadata": {},
   "outputs": [],
   "source": []
  }
 ],
 "metadata": {
  "kernelspec": {
   "display_name": "Python 3",
   "language": "python",
   "name": "python3"
  },
  "language_info": {
   "codemirror_mode": {
    "name": "ipython",
    "version": 3
   },
   "file_extension": ".py",
   "mimetype": "text/x-python",
   "name": "python",
   "nbconvert_exporter": "python",
   "pygments_lexer": "ipython3",
   "version": "3.7.6"
  }
 },
 "nbformat": 4,
 "nbformat_minor": 1
}