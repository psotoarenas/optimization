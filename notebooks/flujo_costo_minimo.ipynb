{
 "cells": [
  {
   "cell_type": "markdown",
   "metadata": {},
   "source": [
    "# Problema del flujo de costo mínimo"
   ]
  },
  {
   "cell_type": "markdown",
   "metadata": {},
   "source": [
    "## Introducción\n",
    "\n",
    "Muy similar al problema de flujo máximo es el problema del flujo de costo mínimo, en el cual, cada enlace $e$ en el grafo tiene una unidad de costo por transportar una unidad de material (datos) a través de él ($\\xi_e$). El problema es encontrar un flujo (una ruta) con un costo que sea el menor posible. Este problema también se puede ver como un caso específico del problema de dimensionamiento. \n",
    "\n",
    "El problema del flujo de costo mínimo tiene nodos especiales, llamados de suministro o de demanda, los cuales son similares a los nodos origen y destino del problema de flujo máximo. El material (datos) es transportado desde los nodos de suministro a los nodos de demanda y tiene las siguientes características. \n",
    "\n",
    "* En un nodo de suministro, se tiene una cantidad positiva de material (el suministro, $b_v > 0$) que es añadido al flujo. Un suministro puede representar la producción en ese nodo. Piense por ejemplo cómo su computador genera datos por medio de una aplicación que deben ser enviados a un servidor para realizar una consulta. \n",
    "\n",
    "* En un nodo de demanda, una cantidad negativa (la demanda, $b_v \\leq 0$) es tomado del flujo. Una demanda puede representar el consumo en ese nodo. Por ejemplo, su computador cuando está listo para recibir los datos de la consulta que acabó de realizar. \n",
    "\n",
    "Por conveniencia asumimos que todos los nodos que no sean de suministro o de demanda, tienen suministro (y demanda) igual a cero. Esto en otras palabras quiere decir que la red está totalmente balanceada y que $\\sum_{i=1}^{n} b_v = 0$.\n",
    "\n",
    "Adicionalmente, este problema tiene la siguiente ley de conservación del flujo el cual toma en cuenta los suministros y las demandas. \n",
    "\n",
    "> En cada nodo, el total del flujo que sale del nodo menos el total del flujo que entra al nodo es igual al suministro (o a la demanda) en ese nodo. \n",
    "\n",
    "El problema del flujo mínimo consiste en determinar los flujos $x_e \\geq 0$ en cada enlace del grafo, de tal manera que el costo de transportar ese flujo sea mínimo.\n"
   ]
  },
  {
   "cell_type": "markdown",
   "metadata": {},
   "source": [
    "## Definición formal\n",
    "\n",
    "El grafo a continuación muestra un problema de costo mínimo. El grafo consiste de $|E|$ enlaces dirigidos ($e=1, 2, ..., E$) y $|V|$ nodos ($v=1, 2, ..., V$) donde cada enlace $e$ está etiquetado con una tupla de números, el primer número representa la capacidad $c_e$ del enlace, la cantidad máxima de flujo que puede ir por dicho enlace, y el segundo número representa el costo $\\xi_e$ de transportar una unidad de flujo. Los números en paréntesis cerca de los nodos representan los suministros o las demandas. El nodo $v=0$ por ejemplo, tiene un suministro de 20 unidades producidas mientras que los nodos $v=3$ y $v=4$ tienen una demanda de 5 y 15 unidades respectivamente. Las capacidades y costos de cada enlace son resumidos en la tabla más abajo. \n",
    "\n",
    "<img src=\"../source/imgs/min_cost_flow.png\" width=\"400\">\n",
    "\n",
    "| $e$ | $\\langle u, v \\rangle$ | $c_e$ | $\\xi_e$ |\n",
    "|:---:|:----------------------:|:-----:|:-------:|\n",
    "|  1  |          0, 1          |   15  |    4    |\n",
    "|  2  |          0, 2          |   8   |    4    |\n",
    "|  3  |          1, 3          |   4   |    2    |\n",
    "|  4  |          1, 2          |   20  |    2    |\n",
    "|  5  |          1, 4          |   10  |    6    |\n",
    "|  6  |          2, 4          |   4   |    3    |\n",
    "|  7  |          2, 3          |   15  |    1    |\n",
    "|  8  |          3, 4          |  20   |    2    |\n",
    "|  9  |          4, 2          |   5   |    3    |\n",
    "\n",
    "La idea es entonces **encontrar el flujo (la ruta) que vaya desde los nodos de suministro hasta los nodos de demanda con el costo mínimo**.  \n",
    "\n",
    "\n",
    "### Restricciones de capacidad\n",
    "Así como en el ejemplo de flujo máximo, nuestra variable de decisión será la cantidad de flujo que debe atravesar cada enlace, $x_e$. Se debe asegurar entonces que el flujo que atraviese el enlace $e$ no sobrepase su capacidad. Así se tiene: \n",
    "\n",
    "$x_1 \\leq 15$\n",
    "\n",
    "$x_2 \\leq 8$\n",
    "\n",
    "$x_3 \\leq 4$\n",
    "\n",
    "...\n",
    "\n",
    "$x_9 \\leq 5$\n",
    "\n",
    "En forma general:  $x_e \\leq c_e,  \\forall e \\in E$\n",
    "\n",
    "\n",
    "### Ley de conservación del flujo\n",
    "\n",
    "Debemos asegurar también que para cada nodo, el total del flujo que sale del nodo menos el total del flujo que entra al nodo es igual al suministro (o a la demanda) en ese nodo. De esta manera tenemos:\n",
    "\n",
    "Para el nodo $v=0$:  $x_1 + x_2 = 20$\n",
    "\n",
    "Para el nodo $v=1$:  $x_3 + x_4 + x_5 - x_1 = 0$\n",
    "\n",
    "Para el nodo $v=3$:  $x_8 - (x_3 + x_7) = -5$\n",
    "\n",
    "Y así para el resto de nodos. \n",
    "\n",
    "Para expresar la ley de conservación del flujo de manera general necesitamos saber cómo se relacionan los enlaces con la dirección del flujo. Por ejemplo, es necesario saber si un enlace empieza o no en un determinado nodo o que enlaces terminan en un determinado nodo. Por ejemplo, para el nodo $v=0$ ningún enlace termina en él, todos los enlaces salen de él. En este caso se deben incluir dos parámetros binario $a_{ev}$ y $b_{ev}$ que:\n",
    "\n",
    "$a_{ev} = \\biggl \\{  \\begin{array}{l l}\n",
    "    1 & \\quad \\text{si el enlace $e$ se origina en el nodo $v$}\\\\\n",
    "    0 & \\quad \\text{en cualquier otro caso}\\\\\n",
    "  \\end{array}$\n",
    "  \n",
    "$b_{ev} = \\biggl \\{  \\begin{array}{l l}\n",
    "1 & \\quad \\text{si el enlace $e$ termina en el nodo $v$}\\\\\n",
    "0 & \\quad \\text{en cualquier otro caso}\\\\\n",
    "\\end{array}$\n",
    "\n",
    "\n",
    "|     |       |       | $a_{ev}$ |       |       |       |       | $b_{ev}$ |       |       |\n",
    "|:---:|:-----:|:-----:|:--------:|:-----:|:-----:|:-----:|:-----:|:--------:|:-----:|:-----:|\n",
    "| $e$ | $v=0$ | $v=1$ |   $v=2$  | $v=3$ | $v=4$ | $v=0$ | $v=1$ |   $v=2$  | $v=3$ | $v=4$ |\n",
    "|  1  |   1   |   0   |     0    |   0   |   0   |   0   |   1   |     0    |   0   |   0   |\n",
    "|  2  |   1   |   0   |     0    |   0   |   0   |   0   |   0   |     1    |   0   |   0   |\n",
    "|  3  |   0   |   1   |     0    |   0   |   0   |   0   |   0   |     0    |   1   |   0   |\n",
    "|  4  |   0   |   1   |     0    |   0   |   0   |   0   |   0   |     1    |   0   |   0   |\n",
    "|  5  |   0   |   1   |     0    |   0   |   0   |   0   |   0   |     0    |   0   |   1   |\n",
    "|  6  |   0   |   0   |     1    |   0   |   0   |   0   |   0   |     0    |   0   |   1   |\n",
    "|  7  |   0   |   0   |     1    |   0   |   0   |   0   |   0   |     0    |   1   |   0   |\n",
    "|  8  |   0   |   0   |     0    |   1   |   0   |   0   |   0   |     0    |   0   |   1   |\n",
    "|  9  |   0   |   0   |     0    |   0   |   1   |   0   |   0   |     1    |   0   |   0   |\n",
    "\n",
    "Con ayuda de este parámetro podemos escribir ahora las restricciones de conservación de flujo de manera general: \n",
    "\n",
    "$\\sum_e a_{ev}x_e - \\sum_e b_{ev}x_e = b_v, \\forall v \\in V$\n",
    "\n",
    "### Restricciones de no negatividad\n",
    "\n",
    "El flujo que lleva cada enlace de $G$ no puede ser negativo. \n",
    "\n",
    "$x_e \\geq 0$\n",
    "\n",
    "### Función objetivo\n",
    "\n",
    "En este problema queremos minimizar el costo total de enrutar el flujo por cada uno de los enlaces. En esta ocasión, cada enlace tiene un costo asociado, si $x_e$ es la variable (a determinar) que representa la cantidad de flujo que atraviesa el enlace $e$, el costo total puede ser determinado por: \n",
    "\n",
    "$\\sum_e \\xi_ex_e$\n",
    "\n",
    "\n",
    "### Formulación del modelo\n",
    "\n",
    "Finalmente podemos escribir el problema de flujo máximo de la siguiente manera: \n",
    "\n",
    "**minimizar**\n",
    "\n",
    "$F = \\sum_e \\xi_ex_e$\n",
    "\n",
    "**sujeto a**\n",
    "\n",
    "$\\sum_e a_{ev}x_e - \\sum_e b_{ev}x_e = b_v, \\forall v \\in V$ (Ley de conservación del flujo)\n",
    "\n",
    "$x_e \\leq c_e,  \\forall e \\in E$ (Restricciones de capacidad)\n",
    "\n",
    "$x_e \\geq 0$ (Restricciones de no negatividad)\n",
    "\n",
    "---\n",
    "\n"
   ]
  },
  {
   "cell_type": "markdown",
   "metadata": {},
   "source": [
    "## Solucion por medio de OR-Tools\n",
    "\n",
    "A continuación resolveremos este problema haciendo uso del software desarrollado por Google para resolver problemas de optimización llamado [OR-Tools](https://developers.google.com/optimization). Puede instalarlo siguiendo las instrucciones sugeridas [acá](https://developers.google.com/optimization/install). Este notebook asume que usted ya tiene el paquete de OR-Tools instalado. La idea es que juegue con este notebook, si es necesario imprima las variables para saber qué contienen.\n",
    "\n",
    "Para recopilar, el problema que queremos solucionar es el de minimizar el costo total del flujo  que debe ser direccionado desde el nodo de suministro hasta el nodo de demanda sabiendo que los enlaces tienen una capacidad y costo dados.\n",
    "\n",
    "Para resolver este problema haremos uso del módulo de ```SimpleMinCostFlow```."
   ]
  },
  {
   "cell_type": "markdown",
   "metadata": {},
   "source": [
    "### Implementación en Python\n",
    "\n",
    "Lo primero es importar el módulo de python de OR-Tools y otras librerías de python. "
   ]
  },
  {
   "cell_type": "code",
   "execution_count": 1,
   "metadata": {},
   "outputs": [],
   "source": [
    "from __future__ import print_function\n",
    "from ortools.graph import pywrapgraph\n",
    "\n",
    "# Ejecutado en OR-Tools 7.7.7810 y python 3.7"
   ]
  },
  {
   "cell_type": "markdown",
   "metadata": {},
   "source": [
    "### Datos de entrada\n",
    "\n",
    "El grafo para este problema puede ser construido por cuatro vectores, uno para los nodos donde se originan los enlaces, otro donde finalizan los enlaces, el tercero para las capacidades de los enlaces y el último para los costos de los enlaces. La longitud de cada vector es igual al número de enlaces del grafo. Para cada `i`, el enlace del grafo irá desde el nodo `start_nodes[i]` hasta el nodo `end_nodes[i]`, su capacidad estará dada por `capacities[i]` y su costo por `unit_costs[i]`. La siguiente sección muestra cómo crear los enlaces usando estos datos. \n",
    "\n",
    "Adicionalmente, se necesita un vector con el cual identificaremos los suministros (demandas) de cada nodo. "
   ]
  },
  {
   "cell_type": "code",
   "execution_count": 3,
   "metadata": {},
   "outputs": [],
   "source": [
    "# Defina cuatro vectores paralelos:  start_nodes, end_nodes, capacities y unit costs \n",
    "# entre cada par. Por ejemplo, el enlace desde el nodo 0 hasta el nodo 1 \n",
    "# tiene una capacidad de 15 y un costo unitario de 4. \n",
    "\n",
    "start_nodes = [ 0, 0,  1, 1,  1,  2, 2,  3, 4]\n",
    "end_nodes   = [ 1, 2,  2, 3,  4,  3, 4,  4, 2]\n",
    "capacities  = [15, 8, 20, 4, 10, 15, 4, 20, 5]\n",
    "unit_costs  = [ 4, 4,  2, 2,  6,  1, 3,  2, 3]\n",
    "\n",
    "# Defina un vector de suministros (demandas) en cada nodo.\n",
    "\n",
    "supplies = [20, 0, 0, -5, -15]"
   ]
  },
  {
   "cell_type": "markdown",
   "metadata": {},
   "source": [
    "### Declare el solver y añada los enlaces\n",
    "\n",
    "Para resolver este problema se usará el solver [SimpleMinCostFlow](https://developers.google.com/optimization/reference/graph/min_cost_flow/SimpleMinCostFlow). Para cada nodo de origen y destino del enlace, se crea el enlace y se le añade la capacidad y el costo con el método [AddArcWithCapacityAndUnitCost](https://developers.google.com/optimization/reference/graph/min_cost_flow/SimpleMinCostFlow#AddArcWithCapacityAndUnitCost). \n",
    "\n",
    "El método [SetNodeSupply](https://developers.google.com/optimization/reference/graph/min_cost_flow/SimpleMinCostFlow#SetNodeSupply) crea un vector de suministros para los nodos. "
   ]
  },
  {
   "cell_type": "code",
   "execution_count": 4,
   "metadata": {},
   "outputs": [],
   "source": [
    "# Instancie el solver SimpleMinCostFlow.\n",
    "min_cost_flow = pywrapgraph.SimpleMinCostFlow()\n",
    "\n",
    "# Añada los enlaces.\n",
    "for i in range(0, len(start_nodes)):\n",
    "    min_cost_flow.AddArcWithCapacityAndUnitCost(start_nodes[i], end_nodes[i],\n",
    "                                            capacities[i], unit_costs[i])\n",
    "\n",
    "# Añada los suministros de los nodos.\n",
    "for i in range(0, len(supplies)):\n",
    "    min_cost_flow.SetNodeSupply(i, supplies[i])"
   ]
  },
  {
   "cell_type": "markdown",
   "metadata": {},
   "source": [
    "### Invoque el solver y muestre los resultados\n",
    "\n",
    "Ahora que los enlaces fueron creados, lo que queda por hacer es invocar el método `Solve()` e imprimir la ruta que debe seguir el flujo y el costo a través de cada enlace. "
   ]
  },
  {
   "cell_type": "code",
   "execution_count": 18,
   "metadata": {},
   "outputs": [
    {
     "name": "stdout",
     "output_type": "stream",
     "text": [
      "Costo Mínimo: 150\n",
      "\n",
      "Enlace    Flujo / Capacidad  Costo\n",
      "0 -> 1      12  /     15       48\n",
      "0 -> 2       8  /      8       32\n",
      "1 -> 2       8  /     20       16\n",
      "1 -> 3       4  /      4        8\n",
      "1 -> 4       0  /     10        0\n",
      "2 -> 3      12  /     15       12\n",
      "2 -> 4       4  /      4       12\n",
      "3 -> 4      11  /     20       22\n",
      "4 -> 2       0  /      5        0\n"
     ]
    }
   ],
   "source": [
    "# Encuentre el flujo de coste mínimo entre el nodo 0 y el nodo 4.\n",
    "if min_cost_flow.Solve() == min_cost_flow.OPTIMAL:\n",
    "    print('Costo Mínimo:', min_cost_flow.OptimalCost())\n",
    "    print('')\n",
    "    print('Enlace    Flujo / Capacidad  Costo')\n",
    "    for i in range(min_cost_flow.NumArcs()):\n",
    "        cost = min_cost_flow.Flow(i) * min_cost_flow.UnitCost(i)\n",
    "        print('%1s -> %1s     %3s  /    %3s      %3s' % (\n",
    "          min_cost_flow.Tail(i),\n",
    "          min_cost_flow.Head(i),\n",
    "          min_cost_flow.Flow(i),\n",
    "          min_cost_flow.Capacity(i),\n",
    "          cost))\n",
    "else:\n",
    "    print('Hubo un problema con la entrada del modelo.')"
   ]
  },
  {
   "cell_type": "markdown",
   "metadata": {},
   "source": [
    "### Análisis\n",
    "\n",
    "El resultado del modelo de optimización muestra que el flujo de tiene un coste mínimo de 150 unidades de costo para transportar 20 unidades de material (datos) desde el nodo $v=0$ hasta los nodos $v=3$ y $v=4$. El flujo sigue la siguiente ruta:\n",
    "\n",
    "* Una parte del flujo sale por el enlace $e=1$ (del nodo $v=0$ al nodo $v=1$) y llevando 12 unidades de material sin exceder su capacidad y con un costo de 48 unidades de costo ($4 \\times 12$). \n",
    "* Otra parte del flujo sale por el enlace del nodo $v=0$ al nodo $v=2$ llevando 8 unidades usando toda la capacidad del enlace y con un costo de 32 unidades de costo ($4 \\times 8$).\n",
    "* De las 12 unidades de material que entran al nodo $v=1$, 4 unidades salen por el enlace que va al nodo $v=3$ usando toda su capacidad, mientras que las 8 unidades restantes salen por el nodo que va al nodo $v=2$. Note que el enlace que va al nodo $v=4$ no es usado para enrutar la demanda puesto que es muy costoso ($\\xi_4 = 6$).\n",
    "* Al nodo $v=2$ llegan 8 unidades provenientes del nodo $v=0$ y 8 unidades provenientes del nodo $v=1$. De estas 16 unidades, 12 unidades salen por el enlace que va al nodo $v=3$ con un coste de 12 unidades de costo y 4 unidades salen por el enlace que van al nodo $v=4$ usando toda su capacidad y costando 12 unidades. \n",
    "* Finalmente, el nodo $v=3$ consume 5 unidades, 4 provenientes del nodo $v=1$ y 1 unidad proveniente del nodo $v=2$. 11 unidades del último flujo salen del nodo $v=3$ y van al nodo $v=4$ completando asi la demanda de este nodo (15 unidades) y con un costo de 22 unidades. \n",
    "\n",
    "Note que este problema tiene dos soluciones optimas. Una es la que se menciona, otra es la siguiente:\n",
    "* De las 16 unidades que entran al nodo $v=2$, 15 unidades salen por el enlace que va al nodo $v=3$ usando toda su capacidad y con un coste de 15 unidades de costo. 1 unidad restante sale por el enlace que van al nodo $v=4$ a un costo de 3 unidades. \n",
    "* De las 19 unidades que entran al nodo $v=3$ (4 unidades desde el nodo $v=1$, 15 desde el nodo $v=2$), 5 unidades son consumidas, las 14 unidades restantes son enviadas al nodo $v=4$ a un costo de 28 unidades. \n",
    "* Note que el coste total es el mismo: \n",
    "    * En la solucion dada por OR-Tools: $x_1 = 12, x_2 = 8, x_3 = 8, x_4 = 4, x_5 = 0, x_6 = 12, x_7 = 4, x_8 = 11, x_9 = 0$ con un coste total de 150 unidades ($12 \\times 4 + 8 \\times 4 + 8 \\times 2 + 4 \\times 2 + 12 \\times 1 + 4 \\times 3 + 11 \\times 2 $)\n",
    "    * En la solucion propuesta: $x_1 = 12, x_2 = 8, x_3 = 8, x_4 = 4, x_5 = 0, x_6 = 15, x_7 = 1, x_8 = 14, x_9 = 0$ con un coste total de 150 unidades ($12 \\times 4 + 8 \\times 4 + 8 \\times 2 + 4 \\times 2 + 15 \\times 1 + 1 \\times 3 + 14 \\times 2 $) "
   ]
  },
  {
   "cell_type": "markdown",
   "metadata": {},
   "source": [
    "## Conclusión\n",
    "\n",
    "En este ejemplo vimos cómo resolver el problema del flujo de coste mínimo de una red. Es decir, se determinó la ruta que debe seguir un flujo con el coste mínimo para satisfacer una demanda, teniendo en cuenta de no exceder las capacidades de los enlaces. Aprendimos cómo formular el problema de manera general y resolvimos el caso específico usando el solver de OR-Tools. "
   ]
  },
  {
   "cell_type": "markdown",
   "metadata": {},
   "source": [
    "## Bibliografía\n",
    "\n",
    "[1] S. P. Bradley, A. C. Hax y T. L Magnanti, Applied Mathematical Programming. Capítulo 8. MIT, 1977. Disponible en [http://web.mit.edu/15.053/www/AMP-Chapter-08.pdf](http://web.mit.edu/15.053/www/AMP-Chapter-08.pdf)\n",
    "\n",
    "[2] Google Developers. Minimum Cost Flows. Disponible en [https://developers.google.com/optimization/flow/mincostflow](https://developers.google.com/optimization/flow/mincostflow)\n",
    "\n",
    "[3] J.F. Botero, Presentación Modelamiento y ejemplos de problemas de flujo en redes. Universidad de Antioquia, 2020."
   ]
  }
 ],
 "metadata": {
  "kernelspec": {
   "display_name": "Python 3",
   "language": "python",
   "name": "python3"
  },
  "language_info": {
   "codemirror_mode": {
    "name": "ipython",
    "version": 3
   },
   "file_extension": ".py",
   "mimetype": "text/x-python",
   "name": "python",
   "nbconvert_exporter": "python",
   "pygments_lexer": "ipython3",
   "version": "3.7.6"
  }
 },
 "nbformat": 4,
 "nbformat_minor": 4
}
