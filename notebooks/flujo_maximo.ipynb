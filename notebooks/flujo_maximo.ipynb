{
 "cells": [
  {
   "cell_type": "markdown",
   "metadata": {},
   "source": [
    "# Problema de flujo máximo. "
   ]
  },
  {
   "cell_type": "markdown",
   "metadata": {},
   "source": [
    "## Introducción\n",
    "\n",
    "\n",
    "Otro de los problemas más representativos en networking es el del flujo máximo que consiste en determinar el máximo flujo posible que puede ser transportado desde un nodo origen a un nodo destino teniendo en cuenta que hay restricciones de capacidad en cada uno de los enlaces. \n",
    "\n",
    "La primera persona en estudiar este problema fue el matemático ruso A. N. Tolstoi en 1930. El mapa mostrado abajo representa una red de trenes para la cual él quería encontrar el flujo máximo. \n",
    "\n",
    "![network_flow](https://developers.google.com/optimization/images/railway_network.png)"
   ]
  },
  {
   "cell_type": "markdown",
   "metadata": {},
   "source": [
    "## Definición formal\n",
    "\n",
    "Se tiene una red de $n$ nodos que representa una red de transporte, $|V| = n$. La idea es transportar material (datos) desde un nodo origen (designado como $s$ por source en inglés) hasta un nodo destino (designado como $d$ por destination en inglés). La capacidad de un enlace es la cantidad máxima de material que puede ser transportado en un período de tiempo fijo. Las capacidades de los enlaces representan las restricciones del problema. \n",
    "\n",
    "Un flujo es la asignación de una cantidad no negativa a cada enlace (la cantidad de flujo) que satisface la regla de la conservación del flujo: \n",
    "\n",
    "> En cada nodo, excepto en el nodo origen o destino, el flujo total de todos los enlaces que entran al nodo es igual al flujo total de todos los enlaces que salen del nodo. \n",
    "\n",
    "El problema de flujo máximo trata de encontrar la cantidad de flujo para la cual la suma de las cantidades de flujo de toda la red sea máxima siempre y cuando las capacidades de los enlaces no sean superadas. \n"
   ]
  },
  {
   "cell_type": "markdown",
   "metadata": {},
   "source": [
    "Dada una red representada por $G=(V, E)$ con un nodo origen $s$ y un nodo destino $d$ se quiere encontrar el flujo máximo sobre $G$. El grafo consiste de $|E|$ enlaces dirigidos ($e=1, 2, ..., E$) y $|V|$ nodos ($v=1, 2, ..., V$) donde cada enlace $e$ tiene asociada una capacidad $c_e$ y representa la cantidad máxima de flujo que puede ir por dicho enlace. \n",
    "\n",
    "Se quiere determinar entonces **la cantidad de flujo $f$ que debe ir por cada enlace con tal de enrutar la mayor cantidad posible de material de $s$ a $d$**\n",
    "\n",
    "Por ejemplo, considere la red mostrada a continuación. La red tiene 5 nodos donde el nodo $v=0$ es considerado como el origen y el nodo $v=4$ es considerado como el destino. Los enlaces son dirigidos y tienen las capacidades mostradas en la figura y son resumidas en la tabla más abajo.\n",
    "\n",
    "<img src=\"../source/imgs/max_flow_prob.png\" width=\"400\">\n",
    "\n",
    "| $e$ \t|   $\\langle u,v \\rangle$ \t| $c_e$ \t|\n",
    "|:---:\t|  :---------------------:\t|:-----:\t|\n",
    "|  1  \t|         0, 1          \t|   20  \t|\n",
    "|  2  \t|          0, 2         \t|   30  \t|\n",
    "|  3  \t|          0, 3         \t|   10  \t|\n",
    "|  4  \t|          1, 4         \t|   30  \t|\n",
    "|  5  \t|          1, 2         \t|   40  \t|\n",
    "|  6  \t|         2, 3          \t|   10   \t|\n",
    "|  7  \t|         2, 4          \t|   20  \t|\n",
    "|  8  \t|          3, 2         \t|   5   \t|\n",
    "|  9  \t|          3, 4         \t|   20  \t|\n",
    "\n",
    "El flujo debe tener las siguientes características: \n",
    "* El flujo $f$ no debe exceder la capacidad de ninguno de los enlaces que atraviese. \n",
    "* Se debe cumplir la ley de conservación del flujo (la suma de los flujos que entran a un nodo debe ser igual a la suma de los flujos que salen del mismo). \n",
    "\n",
    "En este caso tenemos, $x_e$ será la variable que represente la cantidad flujo que pasa por el enlace $e$. Básicamente, al resolver este problema, indirectamente también estamos encontrando una ruta para el flujo $f$. \n",
    "\n",
    "\n",
    "### Restricciones de capacidad\n",
    "Se debe asegurar que el flujo $f$ no sobrepase la capacidad de ninguno de los enlaces. Por ejemplo, para la figura, el flujo que se asigne a cada enlace no puede superar la capacidad de dicho enlace. Así se tiene: \n",
    "\n",
    "$x_1 \\leq 20$\n",
    "\n",
    "$x_2 \\leq 30$\n",
    "\n",
    "$x_3 \\leq 10$\n",
    "\n",
    "...\n",
    "\n",
    "$x_9 \\leq 20$\n",
    "\n",
    "En forma general:  $x_e \\leq c_e,  \\forall e \\in E$\n",
    "\n",
    "\n",
    "### Ley de conservación del flujo\n",
    "\n",
    "Debemos asegurar que, excepto en los nodos origen y destino, la suma de los flujos que entran en un nodo debe ser igual a la suma de los flujos que salen del nodo. De esta manera se tiene: \n",
    "\n",
    "Para el nodo $v=1$:  $x_1 = x_5 + x_4$\n",
    "\n",
    "Para el nodo $v=2$:  $x_2 + x_5 + x_8 = x_6 + x_7$\n",
    "\n",
    "Para el nodo $v=3$:  $x_3 + x_6 = x_8 + x_9$\n",
    "\n",
    "\n",
    "Cuando el nodo en cuestión es origen del flujo, la suma de los flujos que salen del nodo menos la suma de los flujos que entran a ese nodo deben ser iguales a la cantidad de flujo que se quiere maximizar ($f$). De esta manera se tiene:\n",
    "\n",
    "Para el nodo $v=0$:  $f = x_1 + x_2 + x_3 $\n",
    "\n",
    "Mientras que para el nodo destino, la suma de los flujos que entran en el nodo menos la suma de los flujos que salen del nodo deben ser iguales a la cantidad de flujo que se quiere maximizar ($f$). De esta manera se tiene: \n",
    "\n",
    "Para el nodo $v=4$:  $f = x_4 + x_7 + x_9$\n",
    "\n",
    "Para expresar la ley de conservación del flujo de manera general necesitamos saber cómo se relacionan los enlaces con la dirección del flujo. Por ejemplo, es necesario saber si un enlace empieza o no en un determinado nodo o que enlaces terminan en un determinado nodo. Por ejemplo, para el nodo $v=0$ ningún enlace termina en él, todos los enlaces salen de él. En este caso se deben incluir dos parámetros binario $a_{ev}$ y $b_{ev}$ que:\n",
    "\n",
    "$a_{ev} = \\biggl \\{  \\begin{array}{l l}\n",
    "    1 & \\quad \\text{si el enlace $e$ se origina en el nodo $v$}\\\\\n",
    "    0 & \\quad \\text{en cualquier otro caso}\\\\\n",
    "  \\end{array}$\n",
    "  \n",
    "$b_{ev} = \\biggl \\{  \\begin{array}{l l}\n",
    "1 & \\quad \\text{si el enlace $e$ termina en el nodo $v$}\\\\\n",
    "0 & \\quad \\text{en cualquier otro caso}\\\\\n",
    "\\end{array}$\n",
    "\n",
    "|     |       |       | $a_{ev}$ |       |       |       |       | $b_{ev}$ |       |       |\n",
    "|:---:|:-----:|:-----:|:--------:|:-----:|:-----:|:-----:|:-----:|:--------:|:-----:|:-----:|\n",
    "| $e$ | $v=0$ | $v=1$ |   $v=2$  | $v=3$ | $v=4$ | $v=0$ | $v=1$ |   $v=2$  | $v=3$ | $v=4$ |\n",
    "|  1  |   1   |   0   |     0    |   0   |   0   |   0   |   1   |     0    |   0   |   0   |\n",
    "|  2  |   1   |   0   |     0    |   0   |   0   |   0   |   0   |     1    |   0   |   0   |\n",
    "|  3  |   1   |   0   |     0    |   0   |   0   |   0   |   0   |     0    |   1   |   0   |\n",
    "|  4  |   0   |   1   |     0    |   0   |   0   |   0   |   0   |     0    |   0   |   1   |\n",
    "|  5  |   0   |   1   |     0    |   0   |   0   |   0   |   0   |     1    |   0   |   0   |\n",
    "|  6  |   0   |   0   |     1    |   0   |   0   |   0   |   0   |     0    |   1   |   0   |\n",
    "|  7  |   0   |   0   |     1    |   0   |   0   |   0   |   0   |     0    |   0   |   1   |\n",
    "|  8  |   0   |   0   |     0    |   1   |   0   |   0   |   0   |     1    |   0   |   0   |\n",
    "|  9  |   0   |   0   |     0    |   1   |   0   |   0   |   0   |     0    |   0   |   1   |\n",
    "\n",
    "Con ayuda de este parámetro podemos escribir ahora las restricciones de conservación de flujo de manera general: \n",
    "\n",
    "Para los nodos que no son ni origen ni destino:  $\\sum_e a_{ev}x_e - \\sum_e b_{ev}x_e = 0,  \\forall v \\in V, v \\neq \\{s, d\\}$  \n",
    "\n",
    "Para los nodos que son origen:  $\\sum_e a_{es}x_e - \\sum_e b_{es}x_e = f,  v = s$ \n",
    "\n",
    "Para los nodos que son destino:  $\\sum_e a_{ed}x_e - \\sum_e b_{ed}x_e = f,  v = d$ \n",
    "\n",
    "\n",
    "### Restricciones de no negatividad\n",
    "\n",
    "El flujo que lleva cada enlace de $G$ no puede ser negativo. \n",
    "\n",
    "$x_e \\geq 0$\n",
    "\n",
    "### Función objetivo\n",
    "\n",
    "En este problema queremos maximizar el flujo $f$\n",
    "\n",
    "\n",
    "### Formulación del modelo\n",
    "\n",
    "Finalmente podemos escribir el problema de flujo máximo de la siguiente manera: \n",
    "\n",
    "**maximizar**\n",
    "\n",
    "$f$\n",
    "\n",
    "**sujeto a**\n",
    "\n",
    "$\\sum_e a_{es}x_e - \\sum_e b_{es}x_e = f,  v = s$ (Ley de conservación del flujo)\n",
    "\n",
    "$\\sum_e a_{ev}x_e - \\sum_e b_{ev}x_e = 0,  \\forall v \\in V, v \\neq \\{s, d\\}$\n",
    "\n",
    "$\\sum_e a_{ed}x_e - \\sum_e b_{ed}x_e = f,  v = d$ \n",
    "\n",
    "$x_e \\leq c_e,  \\forall e \\in E$ (Restricciones de capacidad)\n",
    "\n",
    "$x_e \\geq 0$ (Restricciones de no negatividad)\n",
    "\n",
    "---\n",
    "\n"
   ]
  },
  {
   "cell_type": "markdown",
   "metadata": {},
   "source": [
    "## Solucion por medio de OR-Tools"
   ]
  },
  {
   "cell_type": "markdown",
   "metadata": {},
   "source": [
    "A continuación resolveremos este problema haciendo uso del software desarrollado por Google para resolver problemas de optimización llamado [OR-Tools](https://developers.google.com/optimization). Puede instalarlo siguiendo las instrucciones sugeridas [aca](https://developers.google.com/optimization/install). Este notebook asume que usted ya tiene el paquete de OR-Tools instalado. La idea es que juegue con este notebook, si es necesario imprima las variables para saber qué contienen.\n",
    "\n",
    "Para recopilar, el problema que queremos solucionar es el de maximizar la cantidad de flujo $f$ que debe ser direccionado desde el nodo origen hasta el nodo destino sabiendo que los enlaces tienen una capacidad dada.\n",
    "\n"
   ]
  },
  {
   "cell_type": "markdown",
   "metadata": {},
   "source": [
    "### Implementación en Python\n",
    "\n",
    "Lo primero es importar el módulo de python de OR-Tools y otras librerías de python. "
   ]
  },
  {
   "cell_type": "code",
   "execution_count": 3,
   "metadata": {},
   "outputs": [],
   "source": [
    "from __future__ import print_function\n",
    "from ortools.graph import pywrapgraph\n",
    "\n",
    "# Ejecutado en OR-Tools 7.7.7810 y python 3.7"
   ]
  },
  {
   "cell_type": "markdown",
   "metadata": {},
   "source": [
    "### Datos de entrada\n",
    "\n",
    "El grafo para este problema puede ser construido por tres vectores, uno para los nodos donde se originan los enlaces, otro donde finalizan los enlaces y el último para las capacidades de los enlaces. La longitud de cada vector es igual al número de enlaces del grafo. Para cada ```i```, el enlace del grafo irá desde el nodo ```start_nodes[i]``` hasta el nodo ```end_nodes[i]``` y su capacidad estará dada por ```capacities[i]```. La siguiente sección muestra cómo crear los enlaces usando estos datos. "
   ]
  },
  {
   "cell_type": "code",
   "execution_count": 4,
   "metadata": {},
   "outputs": [],
   "source": [
    "# Defina tres vectores paralelos:  start_nodes, end_nodes, y  capacities\n",
    "# entre cada par. Por ejemplo, el enlace desde el nodo 0 hasta el nodo 1 \n",
    "# tiene una capacidad de 20\n",
    "\n",
    "start_nodes = [0, 0, 0, 1, 1, 2, 2, 3, 3]\n",
    "end_nodes = [1, 2, 3, 2, 4, 3, 4, 2, 4]\n",
    "capacities = [20, 30, 10, 40, 30, 10, 20, 5, 20]"
   ]
  },
  {
   "cell_type": "markdown",
   "metadata": {},
   "source": [
    "### Declare el solver y añada los enlaces\n",
    "\n",
    "Para resolver este problema se usará el solver [SimpleMaxFlow](https://developers.google.com/optimization/reference/graph/max_flow/SimpleMaxFlow). Para cada nodo de origen y destino del enlace, se crea el enlace y se le añade la capacidad con el método [AddArcWithCapacity](https://developers.google.com/optimization/reference/graph/max_flow/SimpleMaxFlow#AddArcWithCapacity). Las capacidades son las restricciones del problema. "
   ]
  },
  {
   "cell_type": "code",
   "execution_count": 6,
   "metadata": {},
   "outputs": [],
   "source": [
    "# Declare el software. \n",
    "max_flow = pywrapgraph.SimpleMaxFlow()\n",
    "# Añada los enlaces.\n",
    "for i in range(0, len(start_nodes)):\n",
    "    max_flow.AddArcWithCapacity(start_nodes[i], end_nodes[i], capacities[i])"
   ]
  },
  {
   "cell_type": "markdown",
   "metadata": {},
   "source": [
    "### Invoque el solver y muestre los resultados. \n",
    "\n",
    "Ahora que los enlaces fueron creados, lo que queda por hacer es invocar el método ```Solve()``` e imprimir los resultados teniendo en cuenta que el $v=0$ es nodo origen y $v=4$ el nodo destino. "
   ]
  },
  {
   "cell_type": "code",
   "execution_count": 17,
   "metadata": {},
   "outputs": [
    {
     "name": "stdout",
     "output_type": "stream",
     "text": [
      "Flujo Maximo: 60\n",
      "\n",
      "Enlace   Flujo / Capacidad\n",
      "0 -> 1    20   /  20\n",
      "0 -> 2    30   /  30\n",
      "0 -> 3    10   /  10\n",
      "1 -> 2     0   /  40\n",
      "1 -> 4    20   /  30\n",
      "2 -> 3    10   /  10\n",
      "2 -> 4    20   /  20\n",
      "3 -> 2     0   /   5\n",
      "3 -> 4    20   /  20\n",
      "min-cut del lado del origen: [0]\n",
      "min-cut del lado del destino: [4, 1]\n"
     ]
    }
   ],
   "source": [
    "# Encuentre el flujo maximo entre el nodo 0 y el nodo 4.\n",
    "if max_flow.Solve(0, 4) == max_flow.OPTIMAL:\n",
    "    print('Flujo Maximo:', max_flow.OptimalFlow())\n",
    "    print('')\n",
    "    print('Enlace   Flujo / Capacidad')\n",
    "    for i in range(max_flow.NumArcs()):\n",
    "        print('%1s -> %1s   %3s   / %3s' % (\n",
    "          max_flow.Tail(i),\n",
    "          max_flow.Head(i),\n",
    "          max_flow.Flow(i),\n",
    "          max_flow.Capacity(i)))\n",
    "    print('min-cut del lado del origen:', max_flow.GetSourceSideMinCut())\n",
    "    print('min-cut del lado del destino:', max_flow.GetSinkSideMinCut())\n",
    "else:\n",
    "    print('Hubo un problema con la entrada del flujo maximo.')"
   ]
  },
  {
   "cell_type": "markdown",
   "metadata": {},
   "source": [
    "### Análisis\n",
    "\n",
    "El resultado del modelo de optimización muestra que el flujo máximo es de 60 unidades saliendo desde el nodo $v=0$ y se reparten de la siguiente manera: \n",
    "\n",
    "* Una parte del flujo sale por el enlace $e=1$ (del nodo $v=0$ al nodo $v=1$) y lleva 20 unidades de flujo sin exceder su capacidad. \n",
    "* Otra parte del flujo sale por el enlace del nodo $v=0$ al nodo $v=2$ llevando 30 unidades sin exceder su capacidad.\n",
    "* 10 unidades de flujo salen del nodo $v=0$ y van al nodo $v=3$ sin exceder la capacidad del enlace. \n",
    "* Todo el flujo que entra al nodo $v=1$ sale por el enlace que va al nodo $v=4$. \n",
    "* De las 30 unidades que entran al nodo $v=2$ 10 van al nodo $v=3$ y 20 van al nodo $v=4$. \n",
    "* Finalmente el nodo $v=3$ recibe 10 unidades del nodo $v=1$ y 10 unidades del nodo $v=2$. Luego estas 20 unidades se dirigen al nodo $v=4$. \n",
    "* En resumidas cuentas, al nodo $v=4$ le llegan 60 unidades por los 3 enlaces de esta forma: \n",
    "    * 20 unidades del nodo $v=1$. \n",
    "    * 20 unidades del nodo $v=2$.\n",
    "    * 20 unidades del nodo $v=3$. "
   ]
  },
  {
   "cell_type": "markdown",
   "metadata": {},
   "source": [
    "## Conclusión\n",
    "\n",
    "En este ejemplo vimos cómo resolver el problema de flujo máximo de una red. Es decir, se determinó la cantidad máxima de flujo que puede ser enrutado por una red dado un origen y un destino y teniendo en cuenta de no exceder las capacidades de los enlaces. Aprendimos cómo formular el problema de manera general y resolvimos el caso específico usando el solver de OR-Tools. "
   ]
  },
  {
   "cell_type": "markdown",
   "metadata": {},
   "source": [
    "## Bibliografía"
   ]
  },
  {
   "cell_type": "markdown",
   "metadata": {},
   "source": [
    "[1] H.A Taha, Operations research: an introduction. Pearson/Prentice Hall Upper Saddle Rive, 2011. Disponible en: [https://thalis.math.upatras.gr/~tsantas/DownLoadFiles/Taha%20-%20Operation%20Research%208Ed.pdf](https://thalis.math.upatras.gr/~tsantas/DownLoadFiles/Taha%20-%20Operation%20Research%208Ed.pdf)\n",
    "\n",
    "[2] J.F. Botero, Presentación Modelamiento y ejemplos de problemas de flujo en redes. Universidad de Antioquia, 2020. "
   ]
  }
 ],
 "metadata": {
  "kernelspec": {
   "display_name": "Python 3",
   "language": "python",
   "name": "python3"
  },
  "language_info": {
   "codemirror_mode": {
    "name": "ipython",
    "version": 3
   },
   "file_extension": ".py",
   "mimetype": "text/x-python",
   "name": "python",
   "nbconvert_exporter": "python",
   "pygments_lexer": "ipython3",
   "version": "3.7.6"
  }
 },
 "nbformat": 4,
 "nbformat_minor": 4
}
