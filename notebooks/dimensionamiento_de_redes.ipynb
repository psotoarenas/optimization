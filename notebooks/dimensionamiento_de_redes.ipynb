{
 "cells": [
  {
   "cell_type": "markdown",
   "metadata": {},
   "source": [
    "# Problema de dimensionamiento"
   ]
  },
  {
   "cell_type": "markdown",
   "metadata": {},
   "source": [
    "## Introducción"
   ]
  },
  {
   "cell_type": "markdown",
   "metadata": {},
   "source": [
    "En este notebook brindaremos una introducción a los problemas de optimización en las redes de telecomunicaciones. Uno de los problemas esenciales en este tema es el del dimensionamiento de la red. El problema de dimensionamiento de redes de telecomunicaciones trata de minimizar el costo de los enlaces de la red con un volumen de demanda dado entre un diferentes nodos que puedan ser ruteados por diferentes caminos.\n",
    "\n",
    "Por ejemplo, considere la siguiente red de cuatro nodos con tres nodos que generan una demanda entre los nodos 1, 2 y 3. La estructura de esta red está representada en la parte inferior de la figura mientras que las demandas se muestran en la parte superior de la figura. La red consta de cuatro vértices $V=4$ y cinco enlaces no dirigidos $E=5$. Hay tres demandas bi-direccionales $D=3$ y con la línea punteada se muestra la correspondencia entre las demandas (parte superior de la figura) y la red (parte inferior de la figura). Los vértices serán etiquetados con la variable $v(v=1,2,...,V)$, los enlaces con la etiqueta $e(e=1,2,...,E)$ y las demandas con la etiqueta $d(d=1,2,...,D)$. Las demandas corresponden a un par de nodos (fuente y destino), por ejemplo, la demanda $d=1$ corresponde al par de nodos $\\langle1,2\\rangle$, mientras que la demanda $d=3$ corresponden al par $\\langle2,3\\rangle$.\n",
    "\n",
    "<img src=\"../source/imgs/dimensioning.png\" width=\"400\">\n",
    "\n",
    "La capacidad de los enlaces estará denotada como $y_e$, que para este caso se asume que no son dadas (son variables del problema), a este tipo de problemas se les conoce como problemas sin capacidad. Cuando las capacidades son conocidas (problemas de dimensionamiento con capacidad) se usará $c_e$. Entonces, en este caso, **lo que se quiere determinar es los flujos y las capacidades de los enlaces requeridos para satisfacer la demanda**, a esto le llamamos un **problema de dimensionamiento**. La capacidad de los enlaces se mide en UCE (Unidades de Capacidad de Enlace) que pueden ser asociadas al ancho de banda. Una UCE en el enlace $e$ conlleva la unidad de costo marginal $\\xi_e(\\geq0)$."
   ]
  },
  {
   "cell_type": "markdown",
   "metadata": {
    "collapsed": true,
    "pycharm": {
     "name": "#%% md\n"
    }
   },
   "source": [
    "Cada demanda se caracteriza por un volumen de demanda que se denotará por $h_d$, llamados commodities en aplicaciones por fuera de las telecomunicaciones. El volumen de demanda está expresado en UVD (Unidades de Volumen de Demanda) y también están asociados al ancho de banda.\n",
    "Para cada demanda $d$, hay un número de caminos candidatos $P_d$ (también llamadas rutas) que serán identificados con el índice $p=1,2,...P_d$. Para asociar los caminos a la demanda genérica $d$, la lista de caminos es escrita así $\\mathbb{P}_d=(\\mathcal{P}_{d1}, \\mathcal{P}_{d2}, ... , \\mathcal{P}_{dP_{d}})$. Es importante mencionar que cada camino $\\mathcal{P}_{dp}$ conecta los nodos fuente y destino de la demanda.\n",
    "\n",
    "Los volúmenes de demanda son *llevados a cabo* mediante los flujos que se asignan a los caminos pertenecientes a cada demanda. El flujo que lleva a cabo la demanda $d$ en el camino $p$ se denota $x_{dp}$.\n",
    "\n",
    "<img src=\"../source/imgs/dimensioning_demand_cost.png\" width=\"400\">\n",
    "\n",
    "Por ejemplo:\n",
    "* Para $d=1$, $\\mathbb{P}_1=(\\mathcal{P}_{11},\\mathcal{P}_{12})$, donde $\\mathcal{P}_{11}=\\{2,4\\}$ (en rojo), $\\mathcal{P}_{12}=\\{1,5\\}$ (en café), con las variables asociadas $x_{11},x_{12}$\n",
    "* Para $d=2$, $\\mathbb{P}_2=(\\mathcal{P}_{21},\\mathcal{P}_{22})$, $\\mathcal{P}_{21}=\\{5\\}$ (en amarillo), $\\mathcal{P}_{22}=\\{3,4\\}$ (en azul), con las variables asociadas $x_{21}$, $x_{22}$\n",
    "* Para $d=3$, $\\mathbb{P}_3=(\\mathcal{P}_{31},\\mathcal{P}_{32})$, donde $\\mathcal{P}_{31}=\\{1\\}$ (en rosa), $\\mathcal{P}_{32}=\\{2,3\\}$ (en verde), con las variables asociadas $x_{31}$, $x_{32}$\n",
    "\n",
    "\n",
    "### Restricciones de demanda\n",
    "\n",
    "Como las demandas deben *realizarse* a través de los flujos en los caminos candidatos, se tiene:\n",
    "\n",
    "$x_{11}+x_{12}=15$\n",
    "\n",
    "$x_{21}+x_{22}=20$\n",
    "\n",
    "$x_{31}+x_{32}=10$\n",
    "\n",
    "Forma general: $\\sum_p x_{dp} = h_d, \\forall d \\in D$\n",
    "\n",
    "### Restricciones de capacidad\n",
    "\n",
    "Ahora se debe asegurar que para cada enlace $e$, su capacidad $y_e$ (o $c_e$ si es un problema de dimensionamiento con capacidad) no sea excedida por los flujos que usan ese enlace. Por ejemplo, el enlace $e=1$ es usado por los flujos $x_{12}$ y $x_{31}$, por tanto su capacidad ($c_e$ o $y_e$) debe ser menor o igual a la suma de estos dos flujos. Así mismo para el enlace $e=2$, los flujos que lo atraviesan son $x_{11}$ y $x_{32}$. De igual manera para el resto de los enlaces. Tenemos entonces:\n",
    "\n",
    "$x_{12} + x_{31} \\leq y_1$\n",
    "\n",
    "$x_{11} + x_{32} \\leq y_2$\n",
    "\n",
    "$x_{22} + x_{32} \\leq y_3$\n",
    "\n",
    "$x_{11} + x_{22} \\leq y_4$\n",
    "\n",
    "$x_{12} + x_{21}  \\leq y_5$\n",
    "\n",
    "Las sumas de los lados izquierdos se denominan la carga o el tráfico de los enlaces.\n",
    "\n",
    "\n",
    "Para poder escribir las restricciones de capacidad de manera general, es importante conocer la relación entre los enlaces y los caminos. En la tabla que se muestra abajo, es un indicador de que variables de flujo aparecen en el lado izquierdo de las ecuaciones anteriores. Por ejemplo, el primer camino para la demanda $d=1$, $\\mathcal{P}_{11}$, no usa el enlace $e=1$, pero en cambio usa los enlaces $e=2$ y $e=4$.\n",
    "\n",
    "|  |  |  | $\\delta_{edp}$ |  |  |  |\n",
    "|:-:|:-:|:-:|:-:|:-:|:-:|:-:|\n",
    "| $e$ | $\\mathcal{P}_{11}$ | $\\mathcal{P}_{12}$ | $\\mathcal{P}_{21}$ | $\\mathcal{P}_{22}$ | $\\mathcal{P}_{31}$ | $\\mathcal{P}_{32}$ |\n",
    "| 1 | 0 | 1 | 0 | 0 | 1 | 0 |\n",
    "| 2 | 1 | 0 | 0 | 0 | 0 | 1 |\n",
    "| 3 | 0 | 0 | 0 | 1 | 0 | 1 |\n",
    "| 4 | 1 | 0 | 0 | 1 | 0 | 0 |\n",
    "| 5 | 0 | 1 | 1 | 0 | 0 | 0 |\n",
    "\n",
    "\n",
    "Para esto, se debe incluir un parámetro binario $\\delta_{edp}$:\n",
    "\n",
    "$\\delta_{edp} = \\biggl \\{  \\begin{array}{l l}\n",
    "    1 & \\quad \\text{si el enlace $e$ pertenece al camino $p$ para la demanda $d$}\\\\\n",
    "    0 & \\quad \\text{en cualquier otro caso}\\\\\n",
    "  \\end{array}$\n",
    "\n",
    "Con este parámetro, podemos escribir las restricciones de capacidad de manera general:\n",
    "\n",
    "Forma general: $\\sum_d\\sum_p \\delta_{edp}x_{dp} \\leq y_e, \\forall e \\in E$\n",
    "\n",
    "\n",
    "### Función objetivo\n",
    "En este problema nos interesa minimizar el costo de capacidad, es decir minimizar el costo por unidad de capacidad instalada. La función objetivo puede ser escrita como:\n",
    "\n",
    "$F = \\xi_1 \\times y_1 + \\xi_2 \\times y_2 + \\xi_3 \\times y_3 + \\xi_4 \\times y_4 + \\xi_5 \\times y_5 = 2y_1 + y_2 + y_3 + 3y_4 + y_5$\n",
    "\n",
    "\n",
    "Forma general: $F= \\sum_e \\xi_ey_e$\n",
    "\n",
    "\n",
    "\n",
    "### Formulación del modelo\n",
    "\n",
    "Finalmente podemos escribir el problema de dimensionamiento de redes de telecomunicaciones de la siguiente manera: \n",
    "\n",
    "**minimizar**\n",
    "\n",
    "$F= \\sum_e \\xi_ey_e = 2y_1 + y_2 + y_3 + 3y_4 + y_5$\n",
    "\n",
    "**sujeto a**\n",
    "\n",
    "$\\sum_p x_{dp} = h_d, \\forall d \\in D$ (Restricciones de demanda)\n",
    "\n",
    "$x_{11}+x_{12}=15$\n",
    "\n",
    "$x_{21}+x_{22}=20$\n",
    "\n",
    "$x_{31}+x_{32}=10$\n",
    "\n",
    "$\\sum_d\\sum_p \\delta_{edp}x_{dp} \\leq y_e, \\forall e \\in E$ (Restricciones de Capacidad)\n",
    "\n",
    "$x_{12} + x_{31} \\leq y_1$\n",
    "\n",
    "$x_{11} + x_{32} \\leq y_2$\n",
    "\n",
    "$x_{22} + x_{32} \\leq y_3$\n",
    "\n",
    "$x_{11} + x_{22} \\leq y_4$\n",
    "\n",
    "$x_{12} + x_{21}  \\leq y_5$\n",
    "\n",
    "$\\mathbf{x} \\geq 0, \\mathbf{y} \\geq 0$ (Restricciones de no-negatividad)\n",
    "\n",
    "$x_{11},x_{12},x_{21},x_{22},x_{31},x_{32} \\geq 0$\n",
    "\n",
    "$y_1,y_2,y_3,y_4,y_5 \\geq 0$\n",
    "\n",
    "---"
   ]
  },
  {
   "cell_type": "markdown",
   "metadata": {},
   "source": [
    "## Solución por medio de Gurobi"
   ]
  },
  {
   "cell_type": "markdown",
   "metadata": {},
   "source": [
    "A continuación resolveremos este problema haciendo uso del software [Gurobi](https://www.gurobi.com/). Para ello se asume que tiene una licencia de Gurobi. Si no tiene una, puede pedir una [licencia academica](https://www.gurobi.com/downloads/end-user-license-agreement-academic/). La idea es que juegue con este notebook, si es necesario imprima las variables para saber que contienen. \n",
    "\n",
    "Para recopilar, el problema que queremos resolver es el de dimensionar la red de las figuras mostradas anteriormente. Esto quiere decir, que necesitamos determinar la capacidad de los enlaces (si no están dados) y cuánto flujo debe ir por cada uno de los enlaces de la red (sin exceder la capacidad de los mismos) para satisfacer las demandas dadas. "
   ]
  },
  {
   "cell_type": "markdown",
   "metadata": {},
   "source": [
    "### Implementación en Python\n",
    "\n",
    "Lo primero es importar el módulo de python de Gurobi y otras librerías de python. "
   ]
  },
  {
   "cell_type": "code",
   "execution_count": 7,
   "metadata": {},
   "outputs": [],
   "source": [
    "import numpy as np\n",
    "\n",
    "import gurobipy as gp\n",
    "from gurobipy import GRB\n",
    "from itertools import product\n",
    "\n",
    "# Ejecutado en Gurobi 9.0.2 y python 3.7"
   ]
  },
  {
   "cell_type": "markdown",
   "metadata": {},
   "source": [
    "#### Datos de entrada\n",
    "\n",
    "Definimos los datos de entrada del modelo."
   ]
  },
  {
   "cell_type": "code",
   "execution_count": 8,
   "metadata": {},
   "outputs": [],
   "source": [
    "# Parametros, la notación cambia un poco porque python indexa desde cero. Sólo sume uno al índice resultante. \n",
    "\n",
    "## Red\n",
    "V = 4  # 4 vertices\n",
    "E = 5  # 5 enlaces\n",
    "D = 3  # 3 demandas\n",
    "K = 2  # se considera maximo 2 caminos por demanda\n",
    "\n",
    "## constantes\n",
    "costos_enlaces = [2, 1, 1, 3, 1]\n",
    "flujos_demandas = [15, 20, 10]\n",
    "deltas = [0,1,0,0,1,0,1,0,0,0,0,1,0,0,0,1,0,1,1,0,0,1,0,0,0,1,1,0,0,0]"
   ]
  },
  {
   "cell_type": "markdown",
   "metadata": {},
   "source": [
    "#### Preprocesamiento\n",
    "Definimos algunas operaciones que serán de ayuda en la declaración del modelo. "
   ]
  },
  {
   "cell_type": "code",
   "execution_count": 9,
   "metadata": {},
   "outputs": [],
   "source": [
    "## Red\n",
    "enlaces = [i for i in range(E)]\n",
    "demandas = [i for i in range(D)]\n",
    "caminos = [i for i in range(K)]\n",
    "\n",
    "### para generar las variables de flujo, producto cartesiano entre las demandas y los caminos\n",
    "prod_flujos = list(product(demandas, caminos))\n",
    "\n",
    "### para generar los deltas, producto cartesiano entre enlaces, demandas y caminos. \n",
    "prod_deltas = list(product(enlaces, demandas, caminos))\n",
    "valores_deltas = dict(zip(prod_deltas, deltas))\n",
    "keys, valores_deltas = gp.multidict(valores_deltas)"
   ]
  },
  {
   "cell_type": "markdown",
   "metadata": {},
   "source": [
    "#### Declaración del modelo\n",
    "Esta es la forma general del modelo desarrollado arriba. "
   ]
  },
  {
   "cell_type": "code",
   "execution_count": 10,
   "metadata": {},
   "outputs": [
    {
     "name": "stdout",
     "output_type": "stream",
     "text": [
      "Gurobi Optimizer version 9.0.2 build v9.0.2rc0 (mac64)\n",
      "Optimize a model with 8 rows, 11 columns and 21 nonzeros\n",
      "Model fingerprint: 0x65cf330a\n",
      "Coefficient statistics:\n",
      "  Matrix range     [1e+00, 1e+00]\n",
      "  Objective range  [1e+00, 3e+00]\n",
      "  Bounds range     [0e+00, 0e+00]\n",
      "  RHS range        [1e+01, 2e+01]\n",
      "Presolve removed 8 rows and 11 columns\n",
      "Presolve time: 0.01s\n",
      "Presolve: All rows and columns removed\n",
      "Iteration    Objective       Primal Inf.    Dual Inf.      Time\n",
      "       0    8.5000000e+01   0.000000e+00   0.000000e+00      0s\n",
      "\n",
      "Solved in 0 iterations and 0.02 seconds\n",
      "Optimal objective  8.500000000e+01\n"
     ]
    }
   ],
   "source": [
    "# Modelo\n",
    "\n",
    "# Crea un nuevo modelo\n",
    "m = gp.Model(\"dimensionamiento\")\n",
    "\n",
    "# Crea las variables, lb: lower bound, indica que las variables creadas deben ser mayores o iguales a cero. \n",
    "flujos = m.addVars(prod_flujos, lb=0, vtype=GRB.CONTINUOUS, name='flujos')  # x en la formulacion\n",
    "capacidades = m.addVars(E, lb=0, vtype=GRB.CONTINUOUS, name='capacidades')  # y en la formulacion\n",
    "\n",
    "# Crea las restricciones\n",
    "\n",
    "## Restricciones de demanda\n",
    "m.addConstrs((gp.quicksum(flujos[(d,p)] for p in caminos) ==  flujos_demandas[d] for d in demandas), name='r_demanda')\n",
    "\n",
    "## Restricciones de capacidad\n",
    "m.addConstrs((gp.quicksum(valores_deltas[(e,d,p)]*flujos[(d,p)] for d in demandas for p in caminos) <= \n",
    "              capacidades[e] for e in enlaces), name='r_capacidad')\n",
    "\n",
    "# Crea la variable objetivo\n",
    "m.setObjective(capacidades.prod(costos_enlaces), GRB.MINIMIZE)\n",
    "\n",
    "# Actualiza el modelo \n",
    "m.update()\n",
    "\n",
    "# Optimiza el modelo\n",
    "m.optimize()"
   ]
  },
  {
   "cell_type": "markdown",
   "metadata": {},
   "source": [
    "#### Análisis\n",
    "El resultado del modelo de optimización muestra que el costo mínimo de despliegue de los enlaces es de 85 unidades. Veamos entonces con qué solución se obtiene este valor óptimo. "
   ]
  },
  {
   "cell_type": "markdown",
   "metadata": {},
   "source": [
    "##### Variables de flujo\n",
    "En la siguiente instrucción se imprimirán los valores de las variables de flujo $x_{dp}$. Si su valor es cero, quiere decir que ese flujo no se realiza. Se suma uno a los índices para que concuerde con la formulación general desarrollada en la introducción. "
   ]
  },
  {
   "cell_type": "code",
   "execution_count": 11,
   "metadata": {},
   "outputs": [
    {
     "name": "stdout",
     "output_type": "stream",
     "text": [
      "x_[1,1]=0.0\n",
      "x_[1,2]=15.0\n",
      "x_[2,1]=20.0\n",
      "x_[2,2]=0.0\n",
      "x_[3,1]=10.0\n",
      "x_[3,2]=0.0\n"
     ]
    }
   ],
   "source": [
    "for d, p in flujos.keys():\n",
    "    print('x_[{},{}]={}'.format(d+1, p+1, flujos[d,p].x))"
   ]
  },
  {
   "cell_type": "markdown",
   "metadata": {},
   "source": [
    "###### Variables de capacidad\n",
    "En la siguiente instrucción se imprimirán los valores de las variables de capacidad $y_{e}$. Si su valor es cero, quiere decir que ese enlace no lleva una demanda. Se suma uno a los índices para que concuerde con la formulación general desarrollada en la introducción. "
   ]
  },
  {
   "cell_type": "code",
   "execution_count": 12,
   "metadata": {},
   "outputs": [
    {
     "name": "stdout",
     "output_type": "stream",
     "text": [
      "y_[1]=25.0\n",
      "y_[2]=0.0\n",
      "y_[3]=0.0\n",
      "y_[4]=0.0\n",
      "y_[5]=35.0\n"
     ]
    }
   ],
   "source": [
    "for e in capacidades.keys():\n",
    "    print('y_[{}]={}'.format(e+1,capacidades[e].x))"
   ]
  },
  {
   "cell_type": "markdown",
   "metadata": {},
   "source": [
    "Que quieren decir estos resultados? Que para satisfacer las demandas solo dos enlaces son necesarios, $e=1$ y $e=5$ con capacidades $y_1=25$ y $y_5=35$ UVD, respectivamente. Esto acarrea un costo de 85 unidades ($2y_1+y_5$). Tres flujos son usados, $x_{12}$ que usa el camino $\\mathcal{P}_{12}$ (en café) usando los enlaces $e=1$ y $e=5$ y que lleva una demanda de 15 UVD. $x_{21}$ que usa el camino $\\mathcal{P}_{21}$ (en amarillo) usando el enlace $e=5$ y que lleva una demanda de 20 UVD. Finalmente, $x_{31}$ que usa el camino $\\mathcal{P}_{31}$ (en rosa) usando el enlace $e=1$ y que lleva una demanda de 10 UVD. "
   ]
  },
  {
   "cell_type": "markdown",
   "metadata": {},
   "source": [
    "## Conclusión\n",
    "\n",
    "En este ejemplo vimos uno de los problemas básicos de la optimización aplicada a las redes de telecomunicaciones, el dimensionamiento de las mismas. En esta ocasión asumimos un problema no capacitado, es decir, hay que determinar las capacidades de los enlaces que llevan las demandas requeridas, minimizando el costo de usar dichos enlaces. Aprendimos cómo formular el problema como un modelo de programación lineal y resolvimos dicho modelo usando el módulo de python de Gurobi."
   ]
  },
  {
   "cell_type": "markdown",
   "metadata": {
    "pycharm": {
     "name": "#%%\n"
    }
   },
   "source": [
    "## Bibliografía"
   ]
  },
  {
   "cell_type": "markdown",
   "metadata": {},
   "source": [
    "1. M. Pióro and D. Medhi,Routing, flow, and capacity design in communication and computer networks.    Elsevier, 2004\n",
    "2. J.F. Botero, Presentación Modelamiento y ejemplos de problemas de flujo en redes. Universidad de Antioquia, 2020. "
   ]
  }
 ],
 "metadata": {
  "kernelspec": {
   "display_name": "Python 3",
   "language": "python",
   "name": "python3"
  },
  "language_info": {
   "codemirror_mode": {
    "name": "ipython",
    "version": 3
   },
   "file_extension": ".py",
   "mimetype": "text/x-python",
   "name": "python",
   "nbconvert_exporter": "python",
   "pygments_lexer": "ipython3",
   "version": "3.7.6"
  }
 },
 "nbformat": 4,
 "nbformat_minor": 1
}
